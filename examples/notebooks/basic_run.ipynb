{
 "cells": [
  {
   "cell_type": "code",
   "execution_count": 7,
   "metadata": {},
   "outputs": [],
   "source": [
    "import pandas as pd\n",
    "import openml\n",
    "from sklearn.ensemble import RandomForestClassifier\n",
    "from supervised.automl import AutoML\n",
    "import matplotlib.pyplot as plt\n",
    "\n",
    "import os\n",
    "import numpy as np\n",
    "import pandas as pd\n",
    "import sklearn.model_selection\n",
    "from sklearn.metrics import log_loss, f1_score\n"
   ]
  },
  {
   "cell_type": "code",
   "execution_count": 8,
   "metadata": {},
   "outputs": [],
   "source": [
    "dataset_id = 3\n",
    "df = pd.read_csv('./tests/data/{0}.csv'.format(dataset_id))\n",
    "x_cols = [c for c in df.columns if c != 'target']\n",
    "X = df[x_cols]\n",
    "y = df['target']"
   ]
  },
  {
   "cell_type": "code",
   "execution_count": 9,
   "metadata": {},
   "outputs": [
    {
     "name": "stdout",
     "output_type": "stream",
     "text": [
      "mode should be: Explain, Perform or Compete\n",
      "Setting mode=Explain\n",
      "Create directory AutoML_5\n"
     ]
    }
   ],
   "source": [
    "a = AutoML(total_time_limit=60,mode='Complete')"
   ]
  },
  {
   "cell_type": "code",
   "execution_count": 10,
   "metadata": {},
   "outputs": [
    {
     "name": "stdout",
     "output_type": "stream",
     "text": [
      "AutoML task to be solved: binary_classification\n",
      "AutoML will use algorithms: ['Baseline', 'Linear', 'Decision Tree', 'Random Forest', 'Xgboost', 'Neural Network']\n",
      "AutoML will optimize for metric: logloss\n",
      "1_Baseline final logloss 0.6921877939465444 time 0.02 seconds\n",
      "2_DecisionTree final logloss 0.25082549347823807 time 9.58 seconds\n",
      "3_Linear final logloss 0.08709531550424067 time 2.51 seconds\n",
      "4_Default_RandomForest final logloss 0.10751753176209906 time 6.35 seconds\n",
      "5_Default_Xgboost final logloss 0.01984224639514811 time 6.09 seconds\n",
      "6_Default_NeuralNetwork final logloss 0.03543926849904062 time 39.65 seconds\n",
      "Ensemble final logloss 0.019342761634096192 time 0.65 seconds\n"
     ]
    }
   ],
   "source": [
    "a.fit(X, y)"
   ]
  },
  {
   "cell_type": "code",
   "execution_count": null,
   "metadata": {},
   "outputs": [],
   "source": []
  },
  {
   "cell_type": "code",
   "execution_count": null,
   "metadata": {},
   "outputs": [],
   "source": []
  }
 ],
 "metadata": {
  "kernelspec": {
   "display_name": "Python 3",
   "language": "python",
   "name": "python3"
  },
  "language_info": {
   "codemirror_mode": {
    "name": "ipython",
    "version": 3
   },
   "file_extension": ".py",
   "mimetype": "text/x-python",
   "name": "python",
   "nbconvert_exporter": "python",
   "pygments_lexer": "ipython3",
   "version": "3.7.7"
  }
 },
 "nbformat": 4,
 "nbformat_minor": 2
}
